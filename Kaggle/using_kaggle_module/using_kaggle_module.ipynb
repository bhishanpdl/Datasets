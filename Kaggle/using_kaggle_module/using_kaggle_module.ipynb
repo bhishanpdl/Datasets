{
 "cells": [
  {
   "cell_type": "markdown",
   "metadata": {
    "toc": true
   },
   "source": [
    "<h1>Table of Contents<span class=\"tocSkip\"></span></h1>\n",
    "<div class=\"toc\"><ul class=\"toc-item\"><li><span><a href=\"#Introduction\" data-toc-modified-id=\"Introduction-1\"><span class=\"toc-item-num\">1&nbsp;&nbsp;</span>Introduction</a></span></li></ul></div>"
   ]
  },
  {
   "cell_type": "markdown",
   "metadata": {},
   "source": [
    "# Introduction\n",
    "\n",
    "- kaggle github: https://github.com/Kaggle/kaggle-api  \n",
    "- neptune.ai colab blog: https://neptune.ai/blog/google-colab-dealing-with-files\n",
    "\n",
    "\n",
    "To install kaggle module\n",
    "- Go to your kaggle account > click on logo to go to account > scroll down and select `Create API Token`.\n",
    "- This will download `kaggle.json` file, keep it as `~/.kaggle/kaggle.json`\n",
    "- Read only permission `chmod 600 ~/.kaggle/kaggle.json`\n",
    "- Go to your conda env and do `pip install kaggle`"
   ]
  },
  {
   "cell_type": "code",
   "execution_count": 1,
   "metadata": {
    "ExecuteTime": {
     "end_time": "2020-10-13T13:54:52.239211Z",
     "start_time": "2020-10-13T13:54:52.236462Z"
    }
   },
   "outputs": [],
   "source": [
    "# !kaggle datasets list -s {KEYWORD}"
   ]
  },
  {
   "cell_type": "code",
   "execution_count": 19,
   "metadata": {
    "ExecuteTime": {
     "end_time": "2020-10-13T14:25:23.531062Z",
     "start_time": "2020-10-13T14:25:23.528218Z"
    }
   },
   "outputs": [],
   "source": [
    "# !kaggle datasets list -s health"
   ]
  },
  {
   "cell_type": "code",
   "execution_count": 21,
   "metadata": {
    "ExecuteTime": {
     "end_time": "2020-10-13T14:25:56.700444Z",
     "start_time": "2020-10-13T14:25:55.195476Z"
    }
   },
   "outputs": [
    {
     "name": "stdout",
     "output_type": "stream",
     "text": [
      "ref                                                         title                                                size  lastUpdated          downloadCount  voteCount  usabilityRating  \r\n",
      "----------------------------------------------------------  --------------------------------------------------  -----  -------------------  -------------  ---------  ---------------  \r\n",
      "allen-institute-for-ai/CORD-19-research-challenge           COVID-19 Open Research Dataset Challenge (CORD-19)    5GB  2020-10-12 17:36:26         101261       8427  0.88235295       \r\n",
      "sudalairajkumar/novel-corona-virus-2019-dataset             Novel Corona Virus 2019 Dataset                       3MB  2020-09-24 14:22:13         257045       4853  0.9705882        \r\n",
      "ronitf/heart-disease-uci                                    Heart Disease UCI                                     3KB  2018-06-25 11:33:56         158908       3870  0.7647059        \r\n",
      "hugomathien/soccer                                          European Soccer Database                             33MB  2016-10-23 22:31:38         116281       2997  0.7058824        \r\n",
      "paultimothymooney/chest-xray-pneumonia                      Chest X-Ray Images (Pneumonia)                        2GB  2018-03-24 19:41:59          83289       2755  0.75             \r\n",
      "karangadiya/fifa19                                          FIFA 19 complete player dataset                       2MB  2018-12-21 03:52:59          99868       2696  1.0              \r\n",
      "zynicide/wine-reviews                                       Wine Reviews                                         51MB  2017-11-27 17:08:04         115180       2598  0.7941176        \r\n",
      "russellyates88/suicide-rates-overview-1985-to-2016          Suicide Rates Overview 1985 to 2016                 397KB  2018-12-01 19:18:25          89251       2278  0.8235294        \r\n",
      "unsdsn/world-happiness                                      World Happiness Report                               37KB  2019-11-27 04:41:47         134421       2196  0.85294116       \r\n",
      "uciml/breast-cancer-wisconsin-data                          Breast Cancer Wisconsin (Diagnostic) Data Set        49KB  2016-09-25 10:49:04         113553       1719  0.85294116       \r\n",
      "neuromusic/avocado-prices                                   Avocado Prices                                      629KB  2018-06-06 05:28:35          77529       1709  0.9705882        \r\n",
      "uciml/pima-indians-diabetes-database                        Pima Indians Diabetes Database                        9KB  2016-10-06 18:31:56         140011       1705  0.88235295       \r\n",
      "abcsds/pokemon                                              Pokemon with stats                                   15KB  2016-08-29 06:01:43          55727       1616  0.88235295       \r\n",
      "moltean/fruits                                              Fruits 360                                          760MB  2020-05-18 10:35:15          51491       1530  0.875            \r\n",
      "snap/amazon-fine-food-reviews                               Amazon Fine Food Reviews                            242MB  2017-05-01 18:51:31          81318       1392  0.7941176        \r\n",
      "kimjihoo/coronavirusdataset                                 Data Science for COVID-19 (DS4C)                      7MB  2020-07-13 14:07:31          57936       1305  1.0              \r\n",
      "heesoo37/120-years-of-olympic-history-athletes-and-results  120 years of Olympic history: athletes and results    5MB  2018-06-15 06:10:41          56422       1231  0.8235294        \r\n",
      "roche-data-science-coalition/uncover                        UNCOVER COVID-19 Challenge                          256MB  2020-08-10 14:53:45          18101       1188  0.8235294        \r\n",
      "sudalairajkumar/covid19-in-india                            COVID-19 in India                                   147KB  2020-10-07 08:19:31          78101       1150  1.0              \r\n",
      "martj42/international-football-results-from-1872-to-2017    International football results from 1872 to 2020    535KB  2020-09-08 21:07:51          34711       1056  1.0              \r\n"
     ]
    }
   ],
   "source": [
    "!kaggle datasets list --sort-by votes -s health"
   ]
  },
  {
   "cell_type": "code",
   "execution_count": 5,
   "metadata": {
    "ExecuteTime": {
     "end_time": "2020-10-13T13:58:16.770000Z",
     "start_time": "2020-10-13T13:58:15.150443Z"
    }
   },
   "outputs": [
    {
     "name": "stdout",
     "output_type": "stream",
     "text": [
      "name                           size  creationDate         \r\n",
      "----------------------------  -----  -------------------  \r\n",
      "Neighborhood_time_series.csv  253MB  2018-01-24 23:53:58  \r\n",
      "State_time_series.csv           5MB  2018-01-24 23:53:58  \r\n",
      "DataDictionary.csv              5KB  2018-01-24 23:53:58  \r\n",
      "Metro_time_series.csv          54MB  2018-01-24 23:53:58  \r\n",
      "CountyCrossWalk_Zillow.csv    227KB  2018-01-24 23:53:58  \r\n",
      "cities_crosswalk.csv            1MB  2018-01-24 23:53:58  \r\n",
      "fields_per_level.json          17KB  2018-01-24 23:53:58  \r\n",
      "Zip_time_series.csv           746MB  2018-01-24 23:53:58  \r\n",
      "City_time_series.csv          658MB  2018-01-24 23:53:58  \r\n",
      "all_available_metrics.json      3KB  2018-01-24 23:53:58  \r\n",
      "County_time_series.csv        108MB  2018-01-24 23:53:58  \r\n"
     ]
    }
   ],
   "source": [
    "!kaggle datasets files zillow/zecon"
   ]
  },
  {
   "cell_type": "code",
   "execution_count": 6,
   "metadata": {
    "ExecuteTime": {
     "end_time": "2020-10-13T13:59:00.356064Z",
     "start_time": "2020-10-13T13:58:56.892142Z"
    }
   },
   "outputs": [
    {
     "name": "stdout",
     "output_type": "stream",
     "text": [
      "Downloading State_time_series.csv.zip to /Users/poudel/github/Datasets/Kaggle/using_kaggle_module\n",
      "100%|██████████████████████████████████████| 1.71M/1.71M [00:00<00:00, 1.90MB/s]\n",
      "100%|██████████████████████████████████████| 1.71M/1.71M [00:00<00:00, 2.01MB/s]\n"
     ]
    }
   ],
   "source": [
    "# web: https://www.kaggle.com/zillow/zecon\n",
    "\n",
    "\n",
    "# !kaggle datasets download zillow/zecon -f State_time_series.csv"
   ]
  },
  {
   "cell_type": "code",
   "execution_count": 11,
   "metadata": {
    "ExecuteTime": {
     "end_time": "2020-10-13T14:13:36.776328Z",
     "start_time": "2020-10-13T14:13:36.773776Z"
    }
   },
   "outputs": [],
   "source": [
    "# big files.\n",
    "# !kaggle competitions download -c web-traffic-time-series-forecasting"
   ]
  },
  {
   "cell_type": "code",
   "execution_count": 14,
   "metadata": {
    "ExecuteTime": {
     "end_time": "2020-10-13T14:15:49.355638Z",
     "start_time": "2020-10-13T14:15:48.028181Z"
    }
   },
   "outputs": [
    {
     "name": "stdout",
     "output_type": "stream",
     "text": [
      "name                          size  creationDate         \r\n",
      "---------------------------  -----  -------------------  \r\n",
      "train_1.csv.zip              102MB  2018-06-20 06:50:23  \r\n",
      "key_1.csv.zip                 96MB  2018-06-20 06:50:23  \r\n",
      "train_2.csv.zip              150MB  2018-06-20 06:50:23  \r\n",
      "sample_submission_1.csv.zip   66MB  2018-06-20 06:50:23  \r\n",
      "sample_submission_2.csv.zip   68MB  2018-06-20 06:50:23  \r\n",
      "key_2.csv.zip                101MB  2018-06-20 06:50:23  \r\n"
     ]
    }
   ],
   "source": [
    "!kaggle competitions files -c web-traffic-time-series-forecasting"
   ]
  },
  {
   "cell_type": "code",
   "execution_count": 15,
   "metadata": {
    "ExecuteTime": {
     "end_time": "2020-10-13T14:17:20.501646Z",
     "start_time": "2020-10-13T14:16:42.125695Z"
    }
   },
   "outputs": [
    {
     "name": "stdout",
     "output_type": "stream",
     "text": [
      "Downloading train_1.csv.zip to /Users/poudel/github/Datasets/Kaggle/using_kaggle_module\n",
      "100%|████████████████████████████████████████| 102M/102M [00:36<00:00, 2.81MB/s]\n",
      "100%|████████████████████████████████████████| 102M/102M [00:36<00:00, 2.96MB/s]\n"
     ]
    }
   ],
   "source": [
    "!kaggle competitions download -c web-traffic-time-series-forecasting -f train_1.csv.zip"
   ]
  },
  {
   "cell_type": "code",
   "execution_count": null,
   "metadata": {},
   "outputs": [],
   "source": [
    "# !kaggle competitions download -c web-traffic-time-series-forecasting -f train_1.csv.zip -p data/"
   ]
  },
  {
   "cell_type": "code",
   "execution_count": 16,
   "metadata": {
    "ExecuteTime": {
     "end_time": "2020-10-13T14:17:24.950861Z",
     "start_time": "2020-10-13T14:17:24.824659Z"
    }
   },
   "outputs": [
    {
     "name": "stdout",
     "output_type": "stream",
     "text": [
      "State_time_series.csv.zip               using_kaggle_module.ipynb\r\n",
      "train_1.csv.zip                         web-traffic-time-series-forecasting.zip\r\n"
     ]
    }
   ],
   "source": [
    "!ls"
   ]
  },
  {
   "cell_type": "code",
   "execution_count": 17,
   "metadata": {
    "ExecuteTime": {
     "end_time": "2020-10-13T14:17:38.062628Z",
     "start_time": "2020-10-13T14:17:37.941146Z"
    }
   },
   "outputs": [
    {
     "name": "stdout",
     "output_type": "stream",
     "text": [
      "113M\ttrain_1.csv.zip\r\n"
     ]
    }
   ],
   "source": [
    "!du -sh train_1.csv.zip"
   ]
  },
  {
   "cell_type": "code",
   "execution_count": 18,
   "metadata": {
    "ExecuteTime": {
     "end_time": "2020-10-13T14:18:10.674906Z",
     "start_time": "2020-10-13T14:18:10.551120Z"
    }
   },
   "outputs": [],
   "source": [
    "!rm -rf train_1.csv.zip"
   ]
  },
  {
   "cell_type": "code",
   "execution_count": null,
   "metadata": {},
   "outputs": [],
   "source": []
  }
 ],
 "metadata": {
  "kernelspec": {
   "display_name": "Python (dataSc)",
   "language": "python",
   "name": "datasc"
  },
  "language_info": {
   "codemirror_mode": {
    "name": "ipython",
    "version": 3
   },
   "file_extension": ".py",
   "mimetype": "text/x-python",
   "name": "python",
   "nbconvert_exporter": "python",
   "pygments_lexer": "ipython3",
   "version": "3.7.7"
  },
  "toc": {
   "base_numbering": 1,
   "nav_menu": {},
   "number_sections": true,
   "sideBar": true,
   "skip_h1_title": false,
   "title_cell": "Table of Contents",
   "title_sidebar": "Contents",
   "toc_cell": true,
   "toc_position": {},
   "toc_section_display": true,
   "toc_window_display": true
  },
  "varInspector": {
   "cols": {
    "lenName": 16,
    "lenType": 16,
    "lenVar": 40
   },
   "kernels_config": {
    "python": {
     "delete_cmd_postfix": "",
     "delete_cmd_prefix": "del ",
     "library": "var_list.py",
     "varRefreshCmd": "print(var_dic_list())"
    },
    "r": {
     "delete_cmd_postfix": ") ",
     "delete_cmd_prefix": "rm(",
     "library": "var_list.r",
     "varRefreshCmd": "cat(var_dic_list()) "
    }
   },
   "types_to_exclude": [
    "module",
    "function",
    "builtin_function_or_method",
    "instance",
    "_Feature"
   ],
   "window_display": false
  }
 },
 "nbformat": 4,
 "nbformat_minor": 4
}
