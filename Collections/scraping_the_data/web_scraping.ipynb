{
 "cells": [
  {
   "cell_type": "markdown",
   "metadata": {
    "toc": "true"
   },
   "source": [
    "# Table of Contents\n",
    " <p><div class=\"lev1 toc-item\"><a href=\"#Web-scraping-Example\" data-toc-modified-id=\"Web-scraping-Example-1\"><span class=\"toc-item-num\">1&nbsp;&nbsp;</span>Web scraping Example</a></div><div class=\"lev1 toc-item\"><a href=\"#Imports\" data-toc-modified-id=\"Imports-2\"><span class=\"toc-item-num\">2&nbsp;&nbsp;</span>Imports</a></div><div class=\"lev1 toc-item\"><a href=\"#Get-list-from-scraped-website\" data-toc-modified-id=\"Get-list-from-scraped-website-3\"><span class=\"toc-item-num\">3&nbsp;&nbsp;</span>Get list from scraped website</a></div><div class=\"lev1 toc-item\"><a href=\"#Save-the-data\" data-toc-modified-id=\"Save-the-data-4\"><span class=\"toc-item-num\">4&nbsp;&nbsp;</span>Save the data</a></div><div class=\"lev1 toc-item\"><a href=\"#Load-saved-data\" data-toc-modified-id=\"Load-saved-data-5\"><span class=\"toc-item-num\">5&nbsp;&nbsp;</span>Load saved data</a></div><div class=\"lev1 toc-item\"><a href=\"#Make-dataframe\" data-toc-modified-id=\"Make-dataframe-6\"><span class=\"toc-item-num\">6&nbsp;&nbsp;</span>Make dataframe</a></div>"
   ]
  },
  {
   "cell_type": "markdown",
   "metadata": {},
   "source": [
    "# Web scraping Example\n",
    "We want to download some comedy scripts from the website: https://scrapsfromtheloft.com/\n",
    "\n",
    "- Go to comedy section: https://scrapsfromtheloft.com/comedy/\n",
    "- Open few links: \n",
    "  + https://scrapsfromtheloft.com/2019/08/26/brazil-corruption-amazon-hasan-minhaj/\n",
    "  + https://scrapsfromtheloft.com/2019/04/05/kevin-hart-irresponsible-transcript/\n",
    "  \n",
    " - Go to the page. Go to Chrome menu of View > Developer > Inspect Elements (cmd opt c)\n",
    " - Click on transcript it shows the relevent class is `<div class=\"post-content\">`"
   ]
  },
  {
   "cell_type": "markdown",
   "metadata": {},
   "source": [
    "# Imports"
   ]
  },
  {
   "cell_type": "code",
   "execution_count": 3,
   "metadata": {
    "collapsed": true
   },
   "outputs": [],
   "source": [
    "import requests\n",
    "from bs4 import BeautifulSoup\n",
    "import pickle"
   ]
  },
  {
   "cell_type": "code",
   "execution_count": 12,
   "metadata": {
    "collapsed": true
   },
   "outputs": [],
   "source": [
    "def url_to_transcript(url):\n",
    "    '''Returns transcript data specifically from scrapsfromtheloft.com.'''\n",
    "    page = requests.get(url).text\n",
    "    soup = BeautifulSoup(page, \"lxml\")\n",
    "    \n",
    "    # here, for this page the transcript class is post-content\n",
    "    # (can be seen in google chrome: View > Developer > Inspect Elements)\n",
    "    text_lst = [p.text for p in soup.find(class_=\"post-content\").find_all('p')]\n",
    "    return text_lst"
   ]
  },
  {
   "cell_type": "markdown",
   "metadata": {},
   "source": [
    "# Get list from scraped website"
   ]
  },
  {
   "cell_type": "code",
   "execution_count": null,
   "metadata": {
    "collapsed": true
   },
   "outputs": [],
   "source": [
    "url = \"https://scrapsfromtheloft.com/2019/08/26/brazil-corruption-amazon-hasan-minhaj/\"\n",
    "text_lst = url_to_transcript(url)"
   ]
  },
  {
   "cell_type": "markdown",
   "metadata": {},
   "source": [
    "# Save the data"
   ]
  },
  {
   "cell_type": "code",
   "execution_count": 16,
   "metadata": {
    "collapsed": false
   },
   "outputs": [],
   "source": [
    "# save as text file\n",
    "with open('hasan.txt','w') as fo:\n",
    "    fo.write('\\n'.join(text))"
   ]
  },
  {
   "cell_type": "code",
   "execution_count": 17,
   "metadata": {
    "collapsed": true
   },
   "outputs": [],
   "source": [
    "# save as pickle file\n",
    "with open(\"hasan.pkl\", \"wb\") as fo:\n",
    "        pickle.dump(text_lst, fo)"
   ]
  },
  {
   "cell_type": "markdown",
   "metadata": {},
   "source": [
    "# Load saved data"
   ]
  },
  {
   "cell_type": "code",
   "execution_count": 18,
   "metadata": {
    "collapsed": true
   },
   "outputs": [],
   "source": [
    "with open(\"hasan.pkl\", \"rb\") as fi:\n",
    "    data = pickle.load(fi)"
   ]
  },
  {
   "cell_type": "code",
   "execution_count": 19,
   "metadata": {
    "collapsed": false
   },
   "outputs": [
    {
     "data": {
      "text/plain": [
       "'On this episode of Patriot Act, Hasan breaks down of the growing threats to Brazil’s Amazon rainforest. After a long and welcome decline, Brazil’s deforestation rates have begun to rise again, just as climate science shows how desperately we need the forest to survive.'"
      ]
     },
     "execution_count": 19,
     "metadata": {},
     "output_type": "execute_result"
    }
   ],
   "source": [
    "data[0]"
   ]
  },
  {
   "cell_type": "markdown",
   "metadata": {},
   "source": [
    "# Make dataframe"
   ]
  },
  {
   "cell_type": "code",
   "execution_count": 21,
   "metadata": {
    "collapsed": true
   },
   "outputs": [],
   "source": [
    "import pandas as pd\n",
    "pd.set_option('max_colwidth',150)"
   ]
  },
  {
   "cell_type": "code",
   "execution_count": 26,
   "metadata": {
    "collapsed": false
   },
   "outputs": [
    {
     "data": {
      "text/html": [
       "<div>\n",
       "<style scoped>\n",
       "    .dataframe tbody tr th:only-of-type {\n",
       "        vertical-align: middle;\n",
       "    }\n",
       "\n",
       "    .dataframe tbody tr th {\n",
       "        vertical-align: top;\n",
       "    }\n",
       "\n",
       "    .dataframe thead th {\n",
       "        text-align: right;\n",
       "    }\n",
       "</style>\n",
       "<table border=\"1\" class=\"dataframe\">\n",
       "  <thead>\n",
       "    <tr style=\"text-align: right;\">\n",
       "      <th></th>\n",
       "      <th>hasan</th>\n",
       "    </tr>\n",
       "  </thead>\n",
       "  <tbody>\n",
       "    <tr>\n",
       "      <th>hasan</th>\n",
       "      <td>On this episode of Patriot Act, Hasan breaks down of the growing threats to Brazil’s Amazon rainforest. After a long and welcome decline, Brazil’s...</td>\n",
       "    </tr>\n",
       "  </tbody>\n",
       "</table>\n",
       "</div>"
      ],
      "text/plain": [
       "                                                                                                                                                       hasan\n",
       "hasan  On this episode of Patriot Act, Hasan breaks down of the growing threats to Brazil’s Amazon rainforest. After a long and welcome decline, Brazil’s..."
      ]
     },
     "execution_count": 26,
     "metadata": {},
     "output_type": "execute_result"
    }
   ],
   "source": [
    "data_dict = {'hasan': ' '.join(data)}\n",
    "data_df = pd.DataFrame(data_dict,index=data_dict.keys())\n",
    "\n",
    "data_df"
   ]
  },
  {
   "cell_type": "code",
   "execution_count": null,
   "metadata": {
    "collapsed": true
   },
   "outputs": [],
   "source": []
  }
 ],
 "metadata": {
  "kernelspec": {
   "display_name": "Python 3",
   "language": "python",
   "name": "python3"
  },
  "language_info": {
   "codemirror_mode": {
    "name": "ipython",
    "version": 3
   },
   "file_extension": ".py",
   "mimetype": "text/x-python",
   "name": "python",
   "nbconvert_exporter": "python",
   "pygments_lexer": "ipython3",
   "version": "3.6.0"
  },
  "toc": {
   "colors": {
    "hover_highlight": "#DAA520",
    "navigate_num": "#000000",
    "navigate_text": "#333333",
    "running_highlight": "#FF0000",
    "selected_highlight": "#FFD700",
    "sidebar_border": "#EEEEEE",
    "wrapper_background": "#FFFFFF"
   },
   "moveMenuLeft": true,
   "nav_menu": {
    "height": "120px",
    "width": "252px"
   },
   "navigate_menu": true,
   "number_sections": true,
   "sideBar": true,
   "threshold": 4,
   "toc_cell": true,
   "toc_section_display": "block",
   "toc_window_display": true,
   "widenNotebook": false
  }
 },
 "nbformat": 4,
 "nbformat_minor": 2
}
